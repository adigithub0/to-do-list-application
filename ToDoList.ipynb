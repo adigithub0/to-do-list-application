{
 "cells": [
  {
   "cell_type": "code",
   "execution_count": null,
   "id": "b832df12-555c-4480-a691-f379397eaf2f",
   "metadata": {},
   "outputs": [
    {
     "name": "stdout",
     "output_type": "stream",
     "text": [
      "To-Do List Menu:\n",
      "1. Show all tasks\n",
      "2. Add a new task\n",
      "3. Delete a task\n",
      "4. Exit\n"
     ]
    },
    {
     "name": "stdin",
     "output_type": "stream",
     "text": [
      "Choose an option:  2\n",
      "Enter a new task:  send location\n"
     ]
    },
    {
     "name": "stdout",
     "output_type": "stream",
     "text": [
      "'send location' has been added to your to-do list.\n",
      "\n",
      "To-Do List Menu:\n",
      "1. Show all tasks\n",
      "2. Add a new task\n",
      "3. Delete a task\n",
      "4. Exit\n"
     ]
    },
    {
     "name": "stdin",
     "output_type": "stream",
     "text": [
      "Choose an option:  1\n"
     ]
    },
    {
     "name": "stdout",
     "output_type": "stream",
     "text": [
      "\n",
      "To-Do List:\n",
      "1. send location\n",
      "\n",
      "\n",
      "To-Do List Menu:\n",
      "1. Show all tasks\n",
      "2. Add a new task\n",
      "3. Delete a task\n",
      "4. Exit\n"
     ]
    }
   ],
   "source": [
    "# To-Do List : task: add/delete/show/exit\n",
    "\n",
    "def show_tasks(tasks):\n",
    "    if not tasks:\n",
    "        print(\"No tasks in the to-do list.\")\n",
    "    else:\n",
    "        print(\"\\nTo-Do List:\")\n",
    "        for i, task in enumerate(tasks, 1):\n",
    "            print(f\"{i}. {task}\")\n",
    "    print(\"\\n\")\n",
    "\n",
    "def add_task(tasks):\n",
    "    task = input(\"Enter a new task: \")\n",
    "    tasks.append(task)\n",
    "    print(f\"'{task}' has been added to your to-do list.\\n\")\n",
    "\n",
    "def delete_task(tasks):\n",
    "    try:\n",
    "        task_num = int(input(\"Enter the task number to delete: \"))\n",
    "        if 1 <= task_num <= len(tasks):\n",
    "            removed_task = tasks.pop(task_num - 1)\n",
    "            print(f\"'{removed_task}' has been removed from your to-do list.\\n\")\n",
    "        else:\n",
    "            print(\"Invalid task number.\\n\")\n",
    "    except ValueError:\n",
    "        print(\"Please enter a valid number.\\n\")\n",
    "\n",
    "def main():\n",
    "    tasks = []\n",
    "    while True:\n",
    "        print(\"To-Do List Menu:\")\n",
    "        print(\"1. Show all tasks\")\n",
    "        print(\"2. Add a new task\")\n",
    "        print(\"3. Delete a task\")\n",
    "        print(\"4. Exit\")\n",
    "\n",
    "        choice = input(\"Choose an option: \")\n",
    "        if choice == \"1\":\n",
    "            show_tasks(tasks)\n",
    "        elif choice == \"2\":\n",
    "            add_task(tasks)\n",
    "        elif choice == \"3\":\n",
    "            delete_task(tasks)\n",
    "        elif choice == \"4\":\n",
    "            print(\"Goodbye!\")\n",
    "            break\n",
    "        else:\n",
    "            print(\"Invalid choice. Please try again.\\n\")\n",
    "\n",
    "if __name__ == \"__main__\":\n",
    "    main()\n"
   ]
  },
  {
   "cell_type": "code",
   "execution_count": null,
   "id": "7830f9f1-9d72-4e26-920d-a47c538d609d",
   "metadata": {},
   "outputs": [],
   "source": []
  }
 ],
 "metadata": {
  "kernelspec": {
   "display_name": "Python 3 (ipykernel)",
   "language": "python",
   "name": "python3"
  },
  "language_info": {
   "codemirror_mode": {
    "name": "ipython",
    "version": 3
   },
   "file_extension": ".py",
   "mimetype": "text/x-python",
   "name": "python",
   "nbconvert_exporter": "python",
   "pygments_lexer": "ipython3",
   "version": "3.12.4"
  }
 },
 "nbformat": 4,
 "nbformat_minor": 5
}
